{
 "cells": [
  {
   "cell_type": "code",
   "execution_count": 3,
   "metadata": {},
   "outputs": [],
   "source": [
    "import torch\n",
    "from transformers import pipeline, AutoTokenizer, AutoModelForSequenceClassification\n",
    "import torch.nn.functional as F\n",
    "import pandas as pd"
   ]
  },
  {
   "cell_type": "code",
   "execution_count": 4,
   "metadata": {},
   "outputs": [
    {
     "name": "stderr",
     "output_type": "stream",
     "text": [
      "Device set to use cpu\n"
     ]
    }
   ],
   "source": [
    "tokenizer = AutoTokenizer.from_pretrained(\"ProsusAI/finbert\")\n",
    "model = AutoModelForSequenceClassification.from_pretrained(\"ProsusAI/finbert\")\n",
    "\n",
    "finbert_pipeline = pipeline(\"text-classification\", model=model, tokenizer=tokenizer)"
   ]
  },
  {
   "cell_type": "code",
   "execution_count": 5,
   "metadata": {},
   "outputs": [],
   "source": [
    "def classify_financial_text(text):\n",
    "    # Tokenize input\n",
    "    inputs = tokenizer(text, return_tensors=\"pt\", truncation=True, padding=True)\n",
    "\n",
    "    # Get model predictions\n",
    "    with torch.no_grad():\n",
    "        outputs = model(**inputs)\n",
    "\n",
    "    # Convert logits to probabilities\n",
    "    probs = F.softmax(outputs.logits, dim=-1)\n",
    "\n",
    "    # Get the label mapping\n",
    "    label_mapping = model.config.id2label  # {0: 'negative', 1: 'neutral', 2: 'positive'}\n",
    "\n",
    "    # Convert to dictionary with labels\n",
    "    result = {label_mapping[i]: float(probs[0][i]) for i in range(len(probs[0]))}\n",
    "\n",
    "    return result"
   ]
  },
  {
   "cell_type": "code",
   "execution_count": 7,
   "metadata": {},
   "outputs": [
    {
     "name": "stdout",
     "output_type": "stream",
     "text": [
      "Text: Apple's stock price fell by 10% after disappointing earnings.\n",
      "Sentiment Scores: {'positive': 0.006525705102831125, 'negative': 0.972838819026947, 'neutral': 0.020635506138205528}\n",
      "\n",
      "Text: The Federal Reserve maintained interest rates, causing market stability.\n",
      "Sentiment Scores: {'positive': 0.34140244126319885, 'negative': 0.08414701372385025, 'neutral': 0.5744505524635315}\n",
      "\n",
      "Text: Tesla's revenue hit record highs, boosting investor confidence.\n",
      "Sentiment Scores: {'positive': 0.946237325668335, 'negative': 0.019426118582487106, 'neutral': 0.034336525946855545}\n",
      "\n"
     ]
    }
   ],
   "source": [
    "text_samples = [\n",
    "    \"Apple's stock price fell by 10% after disappointing earnings.\",\n",
    "    \"The Federal Reserve maintained interest rates, causing market stability.\",\n",
    "    \"Tesla's revenue hit record highs, boosting investor confidence.\"\n",
    "]\n",
    "\n",
    "for text in text_samples:\n",
    "    print(f\"Text: {text}\")\n",
    "    print(\"Sentiment Scores:\", classify_financial_text(text))\n",
    "    print()"
   ]
  },
  {
   "cell_type": "code",
   "execution_count": 8,
   "metadata": {},
   "outputs": [
    {
     "name": "stdout",
     "output_type": "stream",
     "text": [
      "Text: Apple's stock price fell by 10% after disappointing earnings.\n",
      "Sentiment: negative (Confidence: 0.9728)\n",
      "\n",
      "Text: The Federal Reserve maintained interest rates, causing market stability.\n",
      "Sentiment: neutral (Confidence: 0.5745)\n",
      "\n",
      "Text: Tesla's revenue hit record highs, boosting investor confidence.\n",
      "Sentiment: positive (Confidence: 0.9462)\n",
      "\n"
     ]
    }
   ],
   "source": [
    "results = finbert_pipeline(text_samples)\n",
    "for text, result in zip(text_samples, results):\n",
    "    print(f\"Text: {text}\")\n",
    "    print(f\"Sentiment: {result['label']} (Confidence: {result['score']:.4f})\")\n",
    "    print()"
   ]
  },
  {
   "cell_type": "code",
   "execution_count": null,
   "metadata": {},
   "outputs": [],
   "source": []
  }
 ],
 "metadata": {
  "kernelspec": {
   "display_name": "Python 3 (ipykernel)",
   "language": "python",
   "name": "python3"
  },
  "language_info": {
   "codemirror_mode": {
    "name": "ipython",
    "version": 3
   },
   "file_extension": ".py",
   "mimetype": "text/x-python",
   "name": "python",
   "nbconvert_exporter": "python",
   "pygments_lexer": "ipython3",
   "version": "3.10.10"
  }
 },
 "nbformat": 4,
 "nbformat_minor": 4
}

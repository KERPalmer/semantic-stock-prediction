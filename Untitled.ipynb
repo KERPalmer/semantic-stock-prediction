{
 "cells": [
  {
   "cell_type": "code",
   "execution_count": null,
   "id": "9f147e0f",
   "metadata": {},
   "outputs": [],
   "source": [
    "# pip install pandas bs4 requests"
   ]
  },
  {
   "cell_type": "code",
   "execution_count": 1,
   "id": "296ba325",
   "metadata": {},
   "outputs": [],
   "source": [
    "import pandas as pd\n",
    "import requests\n",
    "\n",
    "from bs4 import BeautifulSoup"
   ]
  },
  {
   "cell_type": "code",
   "execution_count": 4,
   "id": "dd404012",
   "metadata": {},
   "outputs": [],
   "source": [
    "# step 1 gather data - work largly based on this video https://www.youtube.com/watch?v=5tpEDlUCzjk\n",
    "\n",
    "# selecting apple stock but you can select any (apples stock id is AAPL)\n",
    "stock = 'aapl'\n",
    "\n",
    "columns = ['datatime', 'title', 'sentiment score']\n",
    "df = pd.DataFrame(columns = columns)"
   ]
  },
  {
   "cell_type": "code",
   "execution_count": 5,
   "id": "8cbd7d8c",
   "metadata": {},
   "outputs": [
    {
     "name": "stdout",
     "output_type": "stream",
     "text": [
      "50\n"
     ]
    }
   ],
   "source": [
    "counter = 0\n",
    "for page in range(1, 2):\n",
    "    url = f'https://markets.businessinsider.com/news/aapl-stock?p={page}&'\n",
    "    response = requests.get(url)\n",
    "    html = response.text\n",
    "    soup = BeautifulSoup(html, 'lxml')\n",
    "    \n",
    "    articles = soup.find_all('div', class_ = 'latest-news__story')\n",
    "    for article in articles:\n",
    "        title = article.find('a', class_ = 'news-link').text\n",
    "        datetime = article.find('time', class_ = 'latest-news__date').get('datetime')\n",
    "        \n",
    "        sentiment_score = 0\n",
    "        df = pd.concat([pd.DataFrame([[datetime, title, sentiment_score]],\n",
    "                                     columns=df.columns), df], ignore_index=True)\n",
    "        counter +=1\n",
    "print(counter)\n",
    "\n",
    "df.to_csv('news_data.csv')\n",
    "        "
   ]
  },
  {
   "cell_type": "code",
   "execution_count": 6,
   "id": "94d720ae",
   "metadata": {},
   "outputs": [
    {
     "data": {
      "text/html": [
       "<div>\n",
       "<style scoped>\n",
       "    .dataframe tbody tr th:only-of-type {\n",
       "        vertical-align: middle;\n",
       "    }\n",
       "\n",
       "    .dataframe tbody tr th {\n",
       "        vertical-align: top;\n",
       "    }\n",
       "\n",
       "    .dataframe thead th {\n",
       "        text-align: right;\n",
       "    }\n",
       "</style>\n",
       "<table border=\"1\" class=\"dataframe\">\n",
       "  <thead>\n",
       "    <tr style=\"text-align: right;\">\n",
       "      <th></th>\n",
       "      <th>datatime</th>\n",
       "      <th>title</th>\n",
       "      <th>sentiment score</th>\n",
       "    </tr>\n",
       "  </thead>\n",
       "  <tbody>\n",
       "    <tr>\n",
       "      <th>0</th>\n",
       "      <td>2/28/2025 5:00:29 PM</td>\n",
       "      <td>Dell reports mixed Q4 results, Intel delays Oh...</td>\n",
       "      <td>0</td>\n",
       "    </tr>\n",
       "    <tr>\n",
       "      <th>1</th>\n",
       "      <td>2/28/2025 5:23:32 PM</td>\n",
       "      <td>Nvidia (NVDA) Stock Rebounds from Post-Earning...</td>\n",
       "      <td>0</td>\n",
       "    </tr>\n",
       "    <tr>\n",
       "      <th>2</th>\n",
       "      <td>3/3/2025 8:32:50 AM</td>\n",
       "      <td>Chinese and European Stocks Outshine U.S. Tech...</td>\n",
       "      <td>0</td>\n",
       "    </tr>\n",
       "    <tr>\n",
       "      <th>3</th>\n",
       "      <td>3/3/2025 10:51:44 AM</td>\n",
       "      <td>Apple late to AI game, Bloomberg reports</td>\n",
       "      <td>0</td>\n",
       "    </tr>\n",
       "    <tr>\n",
       "      <th>4</th>\n",
       "      <td>3/3/2025 11:11:33 AM</td>\n",
       "      <td>Analysts Offer Insights on Technology Companie...</td>\n",
       "      <td>0</td>\n",
       "    </tr>\n",
       "  </tbody>\n",
       "</table>\n",
       "</div>"
      ],
      "text/plain": [
       "               datatime                                              title  \\\n",
       "0  2/28/2025 5:00:29 PM  Dell reports mixed Q4 results, Intel delays Oh...   \n",
       "1  2/28/2025 5:23:32 PM  Nvidia (NVDA) Stock Rebounds from Post-Earning...   \n",
       "2   3/3/2025 8:32:50 AM  Chinese and European Stocks Outshine U.S. Tech...   \n",
       "3  3/3/2025 10:51:44 AM           Apple late to AI game, Bloomberg reports   \n",
       "4  3/3/2025 11:11:33 AM  Analysts Offer Insights on Technology Companie...   \n",
       "\n",
       "  sentiment score  \n",
       "0               0  \n",
       "1               0  \n",
       "2               0  \n",
       "3               0  \n",
       "4               0  "
      ]
     },
     "execution_count": 6,
     "metadata": {},
     "output_type": "execute_result"
    }
   ],
   "source": [
    "df.head()"
   ]
  },
  {
   "cell_type": "code",
   "execution_count": null,
   "id": "972779f1",
   "metadata": {},
   "outputs": [],
   "source": [
    "# step 2 label data"
   ]
  },
  {
   "cell_type": "code",
   "execution_count": null,
   "id": "cad0ca20",
   "metadata": {},
   "outputs": [],
   "source": [
    "# step 3 preprocess data\n",
    "# news head lines into numerical representation\n",
    "# 1. tokenization\n",
    "# 2. remove redundent words\n",
    "# 3. word embeddings\n"
   ]
  },
  {
   "cell_type": "code",
   "execution_count": null,
   "id": "b6720790",
   "metadata": {},
   "outputs": [],
   "source": [
    "# step 4: train machine model\n",
    "# possible models: naive bayes, random forrest, LSTMs"
   ]
  },
  {
   "cell_type": "code",
   "execution_count": null,
   "id": "fcc21b94",
   "metadata": {},
   "outputs": [],
   "source": [
    "# step 5: Test and evaluate"
   ]
  },
  {
   "cell_type": "code",
   "execution_count": null,
   "id": "a9c3316f",
   "metadata": {},
   "outputs": [],
   "source": [
    "# step 6: deploy and predict"
   ]
  }
 ],
 "metadata": {
  "kernelspec": {
   "display_name": "Python 3 (ipykernel)",
   "language": "python",
   "name": "python3"
  },
  "language_info": {
   "codemirror_mode": {
    "name": "ipython",
    "version": 3
   },
   "file_extension": ".py",
   "mimetype": "text/x-python",
   "name": "python",
   "nbconvert_exporter": "python",
   "pygments_lexer": "ipython3",
   "version": "3.11.3"
  }
 },
 "nbformat": 4,
 "nbformat_minor": 5
}
